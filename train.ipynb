{
 "cells": [
  {
   "cell_type": "code",
   "execution_count": 4,
   "metadata": {},
   "outputs": [],
   "source": [
    "import numpy as np\n",
    "import tensorflow as tf\n",
    "import gym"
   ]
  },
  {
   "cell_type": "code",
   "execution_count": 5,
   "metadata": {},
   "outputs": [],
   "source": [
    "# Create the CartPole Environment\n",
    "env = gym.make('CartPole-v1')"
   ]
  },
  {
   "cell_type": "code",
   "execution_count": 6,
   "metadata": {},
   "outputs": [],
   "source": [
    "# Define the actor and critic networks\n",
    "actor = tf.keras.Sequential([\n",
    "    tf.keras.layers.Dense(32, activation='relu'),\n",
    "    tf.keras.layers.Dense(env.action_space.n, activation='softmax')\n",
    "])  # Output the distribution over the actions\n",
    "\n",
    "critic = tf.keras.Sequential([\n",
    "    tf.keras.layers.Dense(32, activation='relu'),\n",
    "    tf.keras.layers.Dense(1)\n",
    "])  # Output the value of the state"
   ]
  },
  {
   "cell_type": "code",
   "execution_count": 7,
   "metadata": {},
   "outputs": [],
   "source": [
    "# Define optimizer and loss functions\n",
    "actor_optimizer = tf.keras.optimizers.Adam(learning_rate=0.001)\n",
    "critic_optimizer = tf.keras.optimizers.Adam(learning_rate=0.001)"
   ]
  },
  {
   "cell_type": "code",
   "execution_count": 8,
   "metadata": {},
   "outputs": [
    {
     "ename": "SyntaxError",
     "evalue": "invalid syntax (1382320239.py, line 39)",
     "output_type": "error",
     "traceback": [
      "\u001b[0;36m  Cell \u001b[0;32mIn[8], line 39\u001b[0;36m\u001b[0m\n\u001b[0;31m    print(f&quot;Episode {episode}, Reward: {episode_reward}&quot;)\u001b[0m\n\u001b[0m                ^\u001b[0m\n\u001b[0;31mSyntaxError\u001b[0m\u001b[0;31m:\u001b[0m invalid syntax\n"
     ]
    }
   ],
   "source": [
    "# Main training loop\n",
    "num_episodes = 1000\n",
    "gamma = 0.99\n",
    "\n",
    "for episode in range(num_episodes):\n",
    "    state = env.reset()\n",
    "    episode_reward = 0\n",
    "\n",
    "    with tf.GradientTape(persistent=True) as tape:\n",
    "        for t in range(1, 10000):  # Limit the number of time steps\n",
    "            # Choose an action using the actor\n",
    "            action_probs = actor(np.array([state]))\n",
    "            action = np.random.choice(\n",
    "                env.action_space.n, p=action_probs.numpy()[0])\n",
    "\n",
    "            # Take the chosen action and observe the next state and reward\n",
    "            next_state, reward, done, _ = env.step(action)\n",
    "\n",
    "            # Compute the advantage\n",
    "            state_value = critic(np.array([state]))[0, 0]\n",
    "            next_state_value = critic(np.array([next_state]))[0, 0]\n",
    "            advantage = reward + gamma * next_state_value - state_value\n",
    "\n",
    "            # Compute actor and critic losses\n",
    "            actor_loss = -tf.math.log(action_probs[0, action]) * advantage\n",
    "            critic_loss = tf.square(advantage)\n",
    "\n",
    "            episode_reward += reward\n",
    "\n",
    "            # Update actor and critic\n",
    "            actor_gradients = tape.gradient(\n",
    "                actor_loss, actor.trainable_variables)\n",
    "            critic_gradients = tape.gradient(\n",
    "                critic_loss, critic.trainable_variables)\n",
    "            actor_optimizer.apply_gradients(\n",
    "                zip(actor_gradients, actor.trainable_variables))\n",
    "            critic_optimizer.apply_gradients(\n",
    "                zip(critic_gradients, critic.trainable_variables))\n",
    "\n",
    "            if done:\n",
    "                break\n",
    "\n",
    "    if episode % 10 == 0:\n",
    "        print(f\"Episode {episode}, Reward: {episode_reward}\")\n",
    "\n",
    "\n",
    "env.close()"
   ]
  },
  {
   "cell_type": "code",
   "execution_count": null,
   "metadata": {},
   "outputs": [],
   "source": []
  }
 ],
 "metadata": {
  "kernelspec": {
   "display_name": "Python 3",
   "language": "python",
   "name": "python3"
  },
  "language_info": {
   "codemirror_mode": {
    "name": "ipython",
    "version": 3
   },
   "file_extension": ".py",
   "mimetype": "text/x-python",
   "name": "python",
   "nbconvert_exporter": "python",
   "pygments_lexer": "ipython3",
   "version": "3.10.6"
  }
 },
 "nbformat": 4,
 "nbformat_minor": 2
}
